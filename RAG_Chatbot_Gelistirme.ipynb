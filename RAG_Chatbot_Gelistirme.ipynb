{
  "nbformat": 4,
  "nbformat_minor": 0,
  "metadata": {
    "colab": {
      "provenance": [],
      "authorship_tag": "ABX9TyM1SFiGnkW2SCSEcBh7sgLN",
      "include_colab_link": true
    },
    "kernelspec": {
      "name": "python3",
      "display_name": "Python 3"
    },
    "language_info": {
      "name": "python"
    }
  },
  "cells": [
    {
      "cell_type": "markdown",
      "metadata": {
        "id": "view-in-github",
        "colab_type": "text"
      },
      "source": [
        "<a href=\"https://colab.research.google.com/github/ebraryvz2006-afk/Akbank-GenAI-RAG-Chatbot/blob/main/RAG_Chatbot_Gelistirme.ipynb\" target=\"_parent\"><img src=\"https://colab.research.google.com/assets/colab-badge.svg\" alt=\"Open In Colab\"/></a>"
      ]
    },
    {
      "cell_type": "code",
      "execution_count": null,
      "metadata": {
        "id": "tJRO2_zcb_uI"
      },
      "outputs": [],
      "source": [
        "!pip install google-genai\n",
        "!pip install langchain\n",
        "!pip install pypdf\n",
        "!pip install chromadb\n",
        "!pip install python-dotenv"
      ]
    }
  ]
}